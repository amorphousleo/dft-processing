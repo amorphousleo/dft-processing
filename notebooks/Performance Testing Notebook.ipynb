{
 "cells": [
  {
   "cell_type": "markdown",
   "metadata": {},
   "source": [
    "## Double Loop\n",
    "Double loop in python used as a performance benchmark against Julia code and other methods of running loop. %timeit is used to measure length of time"
   ]
  },
  {
   "cell_type": "code",
   "execution_count": null,
   "metadata": {},
   "outputs": [],
   "source": [
    "def loop(x,y,w):\n",
    "    while x < y:\n",
    "        x += 1\n",
    "        v = 0\n",
    "        while v < w:\n",
    "            v += 1\n",
    "            a.extend([x,v]) "
   ]
  },
  {
   "cell_type": "code",
   "execution_count": null,
   "metadata": {},
   "outputs": [],
   "source": [
    "a = []\n",
    "%timeit loop(1,5000,5000)"
   ]
  },
  {
   "cell_type": "markdown",
   "metadata": {},
   "source": [
    "## Numpy array vs. List\n",
    "We are testing the performance of a loop appending to Numpy array vs using standard python list."
   ]
  },
  {
   "cell_type": "code",
   "execution_count": null,
   "metadata": {},
   "outputs": [],
   "source": [
    "import numpy as np\n",
    "\n",
    "def loop_np(x):\n",
    "    n = 0\n",
    "    while n < x:\n",
    "        np.append(a,[n])\n",
    "        n += 1\n",
    "\n",
    "def loop_norm(x):\n",
    "    n = 0\n",
    "    while n < x:\n",
    "        a.append(n)\n",
    "        n += 1\n"
   ]
  },
  {
   "cell_type": "code",
   "execution_count": null,
   "metadata": {},
   "outputs": [],
   "source": [
    "a = np.array([])\n",
    "%timeit loop_np(500000)\n",
    "\n",
    "a = []\n",
    "%timeit loop_norm(500000)"
   ]
  },
  {
   "cell_type": "markdown",
   "metadata": {},
   "source": [
    "## Multiprocessing Testing\n",
    "Here we are trying to learn how to use the multiprocessing package for Python."
   ]
  },
  {
   "cell_type": "code",
   "execution_count": null,
   "metadata": {},
   "outputs": [],
   "source": [
    "from multiprocessing import Pool\n",
    "\n",
    "def f(x):\n",
    "    return x**2\n",
    "\n",
    "if __name__ == '__main__':\n",
    "    pool = Pool(4)\n",
    "    for res in pool.map(f,range(20)):\n",
    "        print(res)"
   ]
  },
  {
   "cell_type": "code",
   "execution_count": null,
   "metadata": {},
   "outputs": [],
   "source": [
    "print(\"This code executes before main.\") \n",
    "\n",
    "def functionA():\n",
    "    print(\"Function A\")\n",
    "\n",
    "def functionB():\n",
    "    print(\"Function B\")\n",
    "\n",
    "if __name__ == '__main__':\n",
    "    functionA()\n",
    "    functionB()"
   ]
  },
  {
   "cell_type": "code",
   "execution_count": null,
   "metadata": {},
   "outputs": [],
   "source": []
  }
 ],
 "metadata": {
  "kernelspec": {
   "display_name": "Python 3",
   "language": "python",
   "name": "python3"
  },
  "language_info": {
   "codemirror_mode": {
    "name": "ipython",
    "version": 3
   },
   "file_extension": ".py",
   "mimetype": "text/x-python",
   "name": "python",
   "nbconvert_exporter": "python",
   "pygments_lexer": "ipython3",
   "version": "3.7.0"
  }
 },
 "nbformat": 4,
 "nbformat_minor": 2
}
