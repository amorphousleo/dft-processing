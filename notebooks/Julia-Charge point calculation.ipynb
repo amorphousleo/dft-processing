{
 "cells": [
  {
   "cell_type": "code",
   "execution_count": 3,
   "metadata": {},
   "outputs": [
    {
     "data": {
      "text/plain": [
       "loop (generic function with 1 method)"
      ]
     },
     "execution_count": 3,
     "metadata": {},
     "output_type": "execute_result"
    }
   ],
   "source": [
    "function loop(x,y,w)\n",
    "    while x < y\n",
    "        x += 1\n",
    "        v = 0\n",
    "        while v < w\n",
    "            v += 1\n",
    "            append!(a,(x,v))\n",
    "        end\n",
    "    end \n",
    "end "
   ]
  },
  {
   "cell_type": "code",
   "execution_count": 18,
   "metadata": {},
   "outputs": [
    {
     "name": "stdout",
     "output_type": "stream",
     "text": [
      "  0.008317 seconds (11.82 k allocations: 634.467 KiB)\n",
      "  0.005557 seconds (3.25 k allocations: 194.313 KiB)\n"
     ]
    }
   ],
   "source": [
    "function loop_while(x)\n",
    "    n = 0\n",
    "    while n < x\n",
    "        n += 1\n",
    "        append!(a,n)\n",
    "    end\n",
    "end\n",
    "\n",
    "function loop_for(x)\n",
    "    for n in 1:x\n",
    "        append!(b,n)\n",
    "    end\n",
    "end\n",
    "\n",
    "b = []\n",
    "a = []\n",
    "@time loop_for(500)\n",
    "@time loop_while(500)\n"
   ]
  },
  {
   "cell_type": "markdown",
   "metadata": {},
   "source": [
    "# Building Arrays in Julia"
   ]
  },
  {
   "cell_type": "code",
   "execution_count": 19,
   "metadata": {},
   "outputs": [
    {
     "ename": "UndefVarError",
     "evalue": "UndefVarError: addprocs not defined",
     "output_type": "error",
     "traceback": [
      "UndefVarError: addprocs not defined",
      "",
      "Stacktrace:",
      " [1] top-level scope at In[19]:1"
     ]
    }
   ],
   "source": [
    "addprocs(4)"
   ]
  },
  {
   "cell_type": "code",
   "execution_count": null,
   "metadata": {},
   "outputs": [],
   "source": []
  }
 ],
 "metadata": {
  "kernelspec": {
   "display_name": "Julia 1.0.1",
   "language": "julia",
   "name": "julia-1.0"
  },
  "language_info": {
   "file_extension": ".jl",
   "mimetype": "application/julia",
   "name": "julia",
   "version": "1.0.1"
  }
 },
 "nbformat": 4,
 "nbformat_minor": 2
}
